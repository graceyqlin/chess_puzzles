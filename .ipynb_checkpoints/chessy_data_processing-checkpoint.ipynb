{
 "cells": [
  {
   "cell_type": "code",
   "execution_count": 248,
   "id": "72c4abf4",
   "metadata": {},
   "outputs": [],
   "source": [
    "import json\n",
    "import urllib\n",
    "import os\n",
    "import re"
   ]
  },
  {
   "cell_type": "code",
   "execution_count": 249,
   "id": "857d7780",
   "metadata": {},
   "outputs": [],
   "source": [
    "def get_initial_board_from_local(local_file_path = 'm8n2.txt'):\n",
    "    \n",
    "    file1 = open(local_file_path, 'r')\n",
    "\n",
    "    Lines = file1.readlines()\n",
    "\n",
    "    board_id = 0 \n",
    "    \n",
    "    aggregate_board = []\n",
    "    \n",
    "    for row, line in enumerate(Lines):\n",
    "\n",
    "        # getting lines with the initial positions\n",
    "        if \"/\" in line:\n",
    "\n",
    "            # getting lines start with the white\n",
    "            if line.split()[1] == 'w':\n",
    "                \n",
    "                # empty board as a current board\n",
    "                current_board = {}\n",
    "                \n",
    "                # adding id to the board, starting with 0\n",
    "                current_board['id'] = board_id         \n",
    "                board_id += 1\n",
    "                \n",
    "                # adding raw board position to the board\n",
    "                raw_board_position = line.split()[0].split('/')       \n",
    "                current_board['board'] = raw_board_position\n",
    "                \n",
    "                # adding moves to the board\n",
    "                next_line = Lines[row + 1]\n",
    "                move = next_line.replace('\\n', '')\n",
    "                move = re.sub('[0-9].', '', move)\n",
    "                move = move.split()\n",
    "                current_board['moves'] = move\n",
    "                \n",
    "                # appending the current board to aggregate board\n",
    "                aggregate_board.append(current_board)\n",
    "    \n",
    "    return aggregate_board"
   ]
  },
  {
   "cell_type": "code",
   "execution_count": 250,
   "id": "0a1b1316",
   "metadata": {},
   "outputs": [],
   "source": [
    "def get_initial_board_from_web(url = \"https://wtharvey.com/m8n2.txt\"):\n",
    "    \n",
    "    \n",
    "    file = urllib. request. urlopen(url)\n",
    "    \n",
    "    Lines = []\n",
    "    \n",
    "    for line in file:\n",
    "        decoded_line = line. decode(\"utf-8\")\n",
    "        Lines.append(decoded_line)\n",
    "\n",
    "    board_id = 0 \n",
    "    \n",
    "    aggregate_board = []\n",
    "    \n",
    "    for row, line in enumerate(Lines):\n",
    "\n",
    "        # getting lines with the initial positions\n",
    "        if \"/\" in line:\n",
    "\n",
    "            # getting lines start with the white\n",
    "            if line.split()[1] == 'w':\n",
    "                \n",
    "                # empty board as a current board\n",
    "                current_board = {}\n",
    "                \n",
    "                # adding id to the board, starting with 0\n",
    "                current_board['id'] = board_id         \n",
    "                board_id += 1\n",
    "                \n",
    "                # adding raw board position to the board\n",
    "                raw_board_position = line.split()[0].split('/')       \n",
    "                current_board['board'] = raw_board_position\n",
    "                \n",
    "                # adding moves to the board\n",
    "                next_line = Lines[row + 1]\n",
    "                move = next_line.replace('\\n', '')\n",
    "                move = re.sub('[0-9].', '', move)\n",
    "                move = move.split()\n",
    "                current_board['moves'] = move\n",
    "                \n",
    "                # appending the current board to aggregate board\n",
    "                aggregate_board.append(current_board)\n",
    "    \n",
    "    return aggregate_board"
   ]
  },
  {
   "cell_type": "code",
   "execution_count": 251,
   "id": "a1017b3f",
   "metadata": {},
   "outputs": [],
   "source": [
    "def get_transform_board(board):\n",
    "    \n",
    "    # create a mapping \n",
    "    mapping = {'r': {'type':'rook', 'side': 'white'},\n",
    "           'b': {'type':'bishop', 'side': 'white'},\n",
    "           'n': {'type': 'knight', 'side': 'white'},\n",
    "           'k': {'type': 'king', 'side': 'white'},\n",
    "           'q': {'type': 'queen', 'side': 'white'},\n",
    "           'p': {'type': 'pawn', 'side': 'white'},\n",
    "           'R': {'type':'rook', 'side': 'black'},\n",
    "           'B': {'type':'bishop', 'side': 'black'},\n",
    "           'N': {'type': 'knight', 'side': 'black'},\n",
    "           'K': {'type': 'king', 'side': 'black'},\n",
    "           'Q': {'type': 'queen', 'side': 'black'},\n",
    "           'P': {'type': 'pawn', 'side': 'black'},\n",
    "           '0': {None}}\n",
    "    \n",
    "    \n",
    "    new_board = []\n",
    "    \n",
    "    for row in board:\n",
    "        # transform the row data format to chessy initial board format \n",
    "        #(for example, 'r2qkb1r' --> ['r', '0', '0', 'q', 'k', 'b', '0', 'r'])\n",
    "        transform_row = []\n",
    "        for item in row:\n",
    "            if item.isalpha():\n",
    "                transform_row.append(item)\n",
    "            else:\n",
    "                for element in int(item) * ['0']:\n",
    "                    transform_row.append(element)\n",
    "                    \n",
    "        # map alphas to chessy's data input type (for example, from 'r' to {'type':'rook', 'side': 'white'})\n",
    "        transform_row = [mapping[item] for item in transform_row]\n",
    "        new_board.append(transform_row)\n",
    "    \n",
    "    return new_board\n",
    "        \n",
    "        \n",
    "    \n",
    "    "
   ]
  },
  {
   "cell_type": "code",
   "execution_count": 252,
   "id": "6727d805",
   "metadata": {},
   "outputs": [],
   "source": [
    "def get_aggregate_transform_board(aggregate_board):\n",
    "    \n",
    "    for index, current_block in enumerate(aggregate_board):\n",
    "        raw_board = current_block['board']\n",
    "        new_board = get_transform_board(raw_board)\n",
    "        current_block['board'] = new_board\n",
    "    \n",
    "    aggregate_transform_board = aggregate_board\n",
    "    \n",
    "    return aggregate_transform_board"
   ]
  },
  {
   "cell_type": "code",
   "execution_count": 253,
   "id": "37ec8cf9",
   "metadata": {},
   "outputs": [],
   "source": [
    "def set_default(obj):\n",
    "    if isinstance(obj, set):\n",
    "        return list(obj)\n",
    "    raise TypeError\n"
   ]
  },
  {
   "cell_type": "code",
   "execution_count": 254,
   "id": "a471179d",
   "metadata": {},
   "outputs": [],
   "source": [
    "def save_json_files(aggregate_transform_board):\n",
    "\n",
    "    path = os. getcwd() + '/puzzle_folder'\n",
    "\n",
    "    if not os.path.exists(path):\n",
    "        os.makedirs(path)\n",
    "    \n",
    "    for index, board in enumerate(aggregate_transform_board):\n",
    "        \n",
    "        json_board = json.dumps(board, default=set_default)\n",
    "        \n",
    "        board_name = path + '/' + str(board['id']) + '_board.json'\n",
    "        \n",
    "        jsonFile = open(board_name, \"w\")\n",
    "        jsonFile.write(json_board)\n",
    "        jsonFile.close()\n",
    "    "
   ]
  },
  {
   "cell_type": "code",
   "execution_count": 263,
   "id": "b7e0106e",
   "metadata": {},
   "outputs": [],
   "source": [
    "aggregate_board = get_initial_board_from_web()"
   ]
  },
  {
   "cell_type": "code",
   "execution_count": 256,
   "id": "171e3a60",
   "metadata": {},
   "outputs": [],
   "source": [
    "aggregate_transform_board = get_aggregate_transform_board(aggregate_board)"
   ]
  },
  {
   "cell_type": "code",
   "execution_count": 257,
   "id": "a995b535",
   "metadata": {},
   "outputs": [],
   "source": [
    "save_json_files(aggregate_transform_board)"
   ]
  },
  {
   "cell_type": "markdown",
   "id": "48cae328",
   "metadata": {},
   "source": [
    "### Testing:"
   ]
  },
  {
   "cell_type": "markdown",
   "id": "81e77cc0",
   "metadata": {},
   "source": [
    "1. Testing on get_initial_board_from_web function:"
   ]
  },
  {
   "cell_type": "code",
   "execution_count": 268,
   "id": "030a4a46",
   "metadata": {},
   "outputs": [
    {
     "name": "stdout",
     "output_type": "stream",
     "text": [
      "{'id': 1, 'board': ['1rb4r', 'pkPp3p', '1b1P3n', '1Q6', 'N3Pp2', '8', 'P1P3PP', '7K'], 'moves': ['Qd', 'Ka', 'cxbN#']}\n"
     ]
    }
   ],
   "source": [
    "print(aggregate_board[1])"
   ]
  },
  {
   "cell_type": "code",
   "execution_count": 270,
   "id": "485c9eaf",
   "metadata": {},
   "outputs": [
    {
     "name": "stdout",
     "output_type": "stream",
     "text": [
      "{'id': 10, 'board': ['r2q1b1r', '1pN1n1pp', 'p1n3k1', '4Pb2', '2BP4', '8', 'PPP3PP', 'R1BQ1RK1'], 'moves': ['Qg', 'Bxg', 'Bf']}\n"
     ]
    }
   ],
   "source": [
    "print(aggregate_board[10])"
   ]
  },
  {
   "cell_type": "code",
   "execution_count": 272,
   "id": "f0301856",
   "metadata": {},
   "outputs": [
    {
     "data": {
      "text/plain": [
       "{'id': 1,\n",
       " 'board': ['1rb4r', 'pkPp3p', '1b1P3n', '1Q6', 'N3Pp2', '8', 'P1P3PP', '7K'],\n",
       " 'moves': ['Qd', 'Ka', 'cxbN#']}"
      ]
     },
     "execution_count": 272,
     "metadata": {},
     "output_type": "execute_result"
    }
   ],
   "source": [
    "aggregate_board[1]"
   ]
  },
  {
   "cell_type": "code",
   "execution_count": 271,
   "id": "ca0d2313",
   "metadata": {},
   "outputs": [
    {
     "data": {
      "text/plain": [
       "{'id': 10,\n",
       " 'board': ['r2q1b1r',\n",
       "  '1pN1n1pp',\n",
       "  'p1n3k1',\n",
       "  '4Pb2',\n",
       "  '2BP4',\n",
       "  '8',\n",
       "  'PPP3PP',\n",
       "  'R1BQ1RK1'],\n",
       " 'moves': ['Qg', 'Bxg', 'Bf']}"
      ]
     },
     "execution_count": 271,
     "metadata": {},
     "output_type": "execute_result"
    }
   ],
   "source": [
    "aggregate_board[10]\n"
   ]
  },
  {
   "cell_type": "markdown",
   "id": "a8528d50",
   "metadata": {},
   "source": [
    "2. Testing on get_aggregate_transform_board function:"
   ]
  },
  {
   "cell_type": "code",
   "execution_count": 273,
   "id": "6913891c",
   "metadata": {},
   "outputs": [
    {
     "data": {
      "text/plain": [
       "{'id': 1,\n",
       " 'board': [[{None},\n",
       "   {'type': 'rook', 'side': 'white'},\n",
       "   {'type': 'bishop', 'side': 'white'},\n",
       "   {None},\n",
       "   {None},\n",
       "   {None},\n",
       "   {None},\n",
       "   {'type': 'rook', 'side': 'white'}],\n",
       "  [{'type': 'pawn', 'side': 'white'},\n",
       "   {'type': 'king', 'side': 'white'},\n",
       "   {'type': 'pawn', 'side': 'black'},\n",
       "   {'type': 'pawn', 'side': 'white'},\n",
       "   {None},\n",
       "   {None},\n",
       "   {None},\n",
       "   {'type': 'pawn', 'side': 'white'}],\n",
       "  [{None},\n",
       "   {'type': 'bishop', 'side': 'white'},\n",
       "   {None},\n",
       "   {'type': 'pawn', 'side': 'black'},\n",
       "   {None},\n",
       "   {None},\n",
       "   {None},\n",
       "   {'type': 'knight', 'side': 'white'}],\n",
       "  [{None},\n",
       "   {'type': 'queen', 'side': 'black'},\n",
       "   {None},\n",
       "   {None},\n",
       "   {None},\n",
       "   {None},\n",
       "   {None},\n",
       "   {None}],\n",
       "  [{'type': 'knight', 'side': 'black'},\n",
       "   {None},\n",
       "   {None},\n",
       "   {None},\n",
       "   {'type': 'pawn', 'side': 'black'},\n",
       "   {'type': 'pawn', 'side': 'white'},\n",
       "   {None},\n",
       "   {None}],\n",
       "  [{None}, {None}, {None}, {None}, {None}, {None}, {None}, {None}],\n",
       "  [{'type': 'pawn', 'side': 'black'},\n",
       "   {None},\n",
       "   {'type': 'pawn', 'side': 'black'},\n",
       "   {None},\n",
       "   {None},\n",
       "   {None},\n",
       "   {'type': 'pawn', 'side': 'black'},\n",
       "   {'type': 'pawn', 'side': 'black'}],\n",
       "  [{None},\n",
       "   {None},\n",
       "   {None},\n",
       "   {None},\n",
       "   {None},\n",
       "   {None},\n",
       "   {None},\n",
       "   {'type': 'king', 'side': 'black'}]],\n",
       " 'moves': ['Qd', 'Ka', 'cxbN#']}"
      ]
     },
     "execution_count": 273,
     "metadata": {},
     "output_type": "execute_result"
    }
   ],
   "source": [
    "aggregate_transform_board[1]"
   ]
  },
  {
   "cell_type": "markdown",
   "id": "98210156",
   "metadata": {},
   "source": [
    "3. Testing on save_json_files function"
   ]
  },
  {
   "cell_type": "code",
   "execution_count": 240,
   "id": "da93272c",
   "metadata": {},
   "outputs": [
    {
     "name": "stdout",
     "output_type": "stream",
     "text": [
      "{'id': 1, 'board': [[[None], {'type': 'rook', 'side': 'white'}, {'type': 'bishop', 'side': 'white'}, [None], [None], [None], [None], {'type': 'rook', 'side': 'white'}], [{'type': 'pawn', 'side': 'white'}, {'type': 'king', 'side': 'white'}, {'type': 'pawn', 'side': 'black'}, {'type': 'pawn', 'side': 'white'}, [None], [None], [None], {'type': 'pawn', 'side': 'white'}], [[None], {'type': 'bishop', 'side': 'white'}, [None], {'type': 'pawn', 'side': 'black'}, [None], [None], [None], {'type': 'knight', 'side': 'white'}], [[None], {'type': 'queen', 'side': 'black'}, [None], [None], [None], [None], [None], [None]], [{'type': 'knight', 'side': 'black'}, [None], [None], [None], {'type': 'pawn', 'side': 'black'}, {'type': 'pawn', 'side': 'white'}, [None], [None]], [[None], [None], [None], [None], [None], [None], [None], [None]], [{'type': 'pawn', 'side': 'black'}, [None], {'type': 'pawn', 'side': 'black'}, [None], [None], [None], {'type': 'pawn', 'side': 'black'}, {'type': 'pawn', 'side': 'black'}], [[None], [None], [None], [None], [None], [None], [None], {'type': 'king', 'side': 'black'}]], 'moves': ['Qd', 'Ka', 'cxbN#']}\n",
      "1\n"
     ]
    }
   ],
   "source": [
    "path = os. getcwd() + '/puzzle_folder/1_board.json'\n",
    "\n",
    "with open(path, 'r') as j:\n",
    "     contents = json.loads(j.read())\n",
    "\n",
    "print(contents)\n",
    "\n",
    "print(contents['id'])"
   ]
  },
  {
   "cell_type": "markdown",
   "id": "4782b2f6",
   "metadata": {},
   "source": [
    "1. the naming of the functions / variables (like ffn board, etc, not initial board) - \n",
    "\n",
    "2. use pytest (consider pytest mock function to replace url.request.read )\n",
    "\n",
    "3. we can make tests static (specifically read one file and test the first row)\n",
    "\n",
    "4. we should write docstring / explaination of the function, mostly input format / output format are importamt\n",
    "\n",
    "5. replace all the testing ranges with specific examples (all the testing ranges are testing whether the initial file was right. which can be written in the origianl py file but not on the test file), in the test file we want to test the functions \n",
    "\n",
    "6. read about unit test / functional test\n",
    "\n",
    "7. read about cli function in python"
   ]
  },
  {
   "cell_type": "markdown",
   "id": "1d79d2e2",
   "metadata": {},
   "source": [
    "1. reduce the duplicate lines on 2,3,4 moves\n",
    "\n",
    "2. set up a flag for user to specify where to save the files\n",
    "\n",
    "3. maybe combine the files to 1, seperate files (not super necessary)\n",
    "\n",
    "4. limit the number of puzzles to generate, whether you want to randomize\n",
    "\n",
    "5. limit the moves to only be 2, 3, 4 (enum)\n",
    "\n",
    "6. python command.py --number_of_moves='' --> directly run without python command.py\n",
    "\n"
   ]
  }
 ],
 "metadata": {
  "kernelspec": {
   "display_name": "Python 3 (ipykernel)",
   "language": "python",
   "name": "python3"
  },
  "language_info": {
   "codemirror_mode": {
    "name": "ipython",
    "version": 3
   },
   "file_extension": ".py",
   "mimetype": "text/x-python",
   "name": "python",
   "nbconvert_exporter": "python",
   "pygments_lexer": "ipython3",
   "version": "3.9.7"
  }
 },
 "nbformat": 4,
 "nbformat_minor": 5
}
